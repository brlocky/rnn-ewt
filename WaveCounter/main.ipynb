{
 "cells": [
  {
   "cell_type": "code",
   "execution_count": 1,
   "metadata": {},
   "outputs": [
    {
     "name": "stdout",
     "output_type": "stream",
     "text": [
      "Elliott Start size139\n",
      "Wave1 [<elliott.core.wave_node.WaveNode object at 0x00000217BDC3F010>]\n",
      "running\n",
      "Got wave Connections  1\n",
      "Waves ->  1\n"
     ]
    }
   ],
   "source": [
    "import pandas as pd\n",
    "from elliott.elliott import Elliott\n",
    "from pivots.zigzag import ZigZag\n",
    "from plot import plot_pivots\n",
    "\n",
    "\n",
    "# df = pd.read_csv('../csv_clean_5m/AAPL.csv', index_col=0, parse_dates=True)\n",
    "df = pd.read_csv('../csv_data/AMZN.csv', index_col=0, parse_dates=True)\n",
    "df = df[['Open', 'High', 'Low', 'Close', 'Volume']]\n",
    "\n",
    "df = df[1761:1900]\n",
    "# df = df[600:740]\n",
    "df['Pivot'] = ZigZag(df).get_zigzag()\n",
    "\n",
    "# dfpl = df[1500:5000].copy()\n",
    "# plot_pivots(df)\n",
    "elliott = Elliott(df)\n",
    "waves = elliott.get_waves()\n",
    "print('Waves -> ', waves)\n",
    "\n",
    "# plot_pivots(dfpl, 'Pivot_2')\n",
    "# plot_pivots(dfpl, 'Pivot_3')"
   ]
  },
  {
   "cell_type": "code",
   "execution_count": null,
   "metadata": {},
   "outputs": [],
   "source": [
    "from matplotlib import pyplot as plt\n",
    "import numpy as np\n",
    "from scipy.signal import argrelextrema\n",
    "import pandas as pd\n",
    "\n",
    "df = pd.read_csv('../csv_data/AMZN.csv', index_col=0, parse_dates=True)\n",
    "df = df[['Open', 'High', 'Low', 'Close', 'Volume']]\n",
    "df = df[600:740]\n",
    "\n",
    "max_idx = argrelextrema(df['High'].values, np.greater, order=1)[0]\n",
    "min_idx = argrelextrema(df['Low'].values, np.less, order=1)[0]\n",
    "plt.figure(figsize=(15, 8))\n",
    "plt.plot(df['Close'], zorder=0)\n",
    "plt.scatter(df.iloc[max_idx].index, df.iloc[max_idx]['High'],\n",
    "            label='Maxima', s=100, color='green', marker='^')\n",
    "plt.scatter(df.iloc[min_idx].index, df.iloc[min_idx]['Low'],\n",
    "            label='Minima', s=100, color='red', marker='v')\n",
    "\n",
    "plt.legend()\n",
    "plt.show()"
   ]
  }
 ],
 "metadata": {
  "kernelspec": {
   "display_name": "torch",
   "language": "python",
   "name": "python3"
  },
  "language_info": {
   "codemirror_mode": {
    "name": "ipython",
    "version": 3
   },
   "file_extension": ".py",
   "mimetype": "text/x-python",
   "name": "python",
   "nbconvert_exporter": "python",
   "pygments_lexer": "ipython3",
   "version": "3.11.4"
  },
  "orig_nbformat": 4
 },
 "nbformat": 4,
 "nbformat_minor": 2
}
