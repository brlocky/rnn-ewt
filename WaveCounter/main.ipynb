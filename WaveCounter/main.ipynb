{
 "cells": [
  {
   "cell_type": "code",
   "execution_count": null,
   "metadata": {},
   "outputs": [],
   "source": [
    "import pandas as pd\n",
    "from pivots.zigzag import ZigZag\n",
    "from plot import plot_pivots\n",
    "\n",
    "\n",
    "# df = pd.read_csv('../csv_clean_5m/AAPL.csv', index_col=0, parse_dates=True)\n",
    "df = pd.read_csv('../csv_data/AMZN.csv', index_col=0, parse_dates=True)\n",
    "df = df[['Open', 'High', 'Low', 'Close', 'Volume']]\n",
    "\n",
    "# df = df[650:700]\n",
    "df = df[600:740]\n",
    "z = ZigZag(df)\n",
    "pivots = z.get_zigzag()\n",
    "\n",
    "# dfpl = df[1500:5000].copy()\n",
    "plot_pivots(df, pivots)\n",
    "\n",
    "# waves = find_waves(df, pivots)\n",
    "# print('Waves -> ', waves)\n",
    "\n",
    "# plot_pivots(dfpl, 'Pivot_2')\n",
    "# plot_pivots(dfpl, 'Pivot_3')"
   ]
  },
  {
   "cell_type": "code",
   "execution_count": null,
   "metadata": {},
   "outputs": [],
   "source": [
    "# Define the high and low prices for your financial instrument\n",
    "high_price = 200\n",
    "low_price = 20\n",
    "\n",
    "# Calculate Fibonacci retracement levels\n",
    "fib_levels = {\n",
    "    0.236: high_price - (0.236 * (high_price - low_price)),\n",
    "    0.382: high_price - (0.382 * (high_price - low_price)),\n",
    "    0.5: high_price - (0.5 * (high_price - low_price)),\n",
    "    0.618: high_price - (0.618 * (high_price - low_price)),\n",
    "    0.786: high_price - (0.786 * (high_price - low_price))\n",
    "}\n",
    "\n",
    "# Print the levels\n",
    "print(fib_levels)"
   ]
  },
  {
   "cell_type": "code",
   "execution_count": null,
   "metadata": {},
   "outputs": [],
   "source": [
    "from matplotlib import pyplot as plt\n",
    "import numpy as np\n",
    "from scipy.signal import argrelextrema\n",
    "import pandas as pd\n",
    "\n",
    "df = pd.read_csv('../csv_data/AMZN.csv', index_col=0, parse_dates=True)\n",
    "df = df[['Open', 'High', 'Low', 'Close', 'Volume']]\n",
    "df = df[600:740]\n",
    "\n",
    "max_idx = argrelextrema(df['High'].values, np.greater, order=1)[0]\n",
    "min_idx = argrelextrema(df['Low'].values, np.less, order=1)[0]\n",
    "plt.figure(figsize=(15, 8))\n",
    "plt.plot(df['Close'], zorder=0)\n",
    "plt.scatter(df.iloc[max_idx].index, df.iloc[max_idx]['High'],\n",
    "            label='Maxima', s=100, color='green', marker='^')\n",
    "plt.scatter(df.iloc[min_idx].index, df.iloc[min_idx]['Low'],\n",
    "            label='Minima', s=100, color='red', marker='v')\n",
    "\n",
    "plt.legend()\n",
    "plt.show()"
   ]
  }
 ],
 "metadata": {
  "kernelspec": {
   "display_name": "torch",
   "language": "python",
   "name": "python3"
  },
  "language_info": {
   "codemirror_mode": {
    "name": "ipython",
    "version": 3
   },
   "file_extension": ".py",
   "mimetype": "text/x-python",
   "name": "python",
   "nbconvert_exporter": "python",
   "pygments_lexer": "ipython3",
   "version": "3.11.4"
  },
  "orig_nbformat": 4
 },
 "nbformat": 4,
 "nbformat_minor": 2
}
