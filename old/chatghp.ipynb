{
 "cells": [
  {
   "cell_type": "code",
   "execution_count": 6,
   "metadata": {},
   "outputs": [],
   "source": [
    "import numpy as np\n",
    "import tensorflow as tf\n",
    "from sklearn.model_selection import train_test_split\n",
    "from sklearn.preprocessing import StandardScaler\n",
    "from tensorflow.keras.models import Sequential\n",
    "from tensorflow.keras.layers import Dense, Dropout\n",
    "from tensorflow.keras.utils import to_categorical\n"
   ]
  },
  {
   "cell_type": "code",
   "execution_count": 7,
   "metadata": {},
   "outputs": [],
   "source": [
    "\n",
    "# Generate synthetic data (replace with your actual data)\n",
    "# For demonstration purposes, we're using random data here\n",
    "data = np.random.rand(500, 5)  # 500 samples, 5 features\n",
    "labels = np.random.randint(0, 3, size=(500,))  # Three categories\n",
    "\n"
   ]
  },
  {
   "cell_type": "code",
   "execution_count": 8,
   "metadata": {},
   "outputs": [
    {
     "name": "stdout",
     "output_type": "stream",
     "text": [
      "Epoch 1/10\n",
      "10/10 [==============================] - 1s 14ms/step - loss: 1.0953 - accuracy: 0.3750 - val_loss: 1.1528 - val_accuracy: 0.2875\n",
      "Epoch 2/10\n",
      "10/10 [==============================] - 0s 3ms/step - loss: 1.0651 - accuracy: 0.4250 - val_loss: 1.1460 - val_accuracy: 0.3000\n",
      "Epoch 3/10\n",
      "10/10 [==============================] - 0s 3ms/step - loss: 1.0606 - accuracy: 0.4344 - val_loss: 1.1362 - val_accuracy: 0.2875\n",
      "Epoch 4/10\n",
      "10/10 [==============================] - 0s 3ms/step - loss: 1.0571 - accuracy: 0.4500 - val_loss: 1.1323 - val_accuracy: 0.3125\n",
      "Epoch 5/10\n",
      "10/10 [==============================] - 0s 3ms/step - loss: 1.0494 - accuracy: 0.4625 - val_loss: 1.1386 - val_accuracy: 0.3250\n",
      "Epoch 6/10\n",
      "10/10 [==============================] - 0s 3ms/step - loss: 1.0522 - accuracy: 0.4719 - val_loss: 1.1513 - val_accuracy: 0.2875\n",
      "Epoch 7/10\n",
      "10/10 [==============================] - 0s 3ms/step - loss: 1.0500 - accuracy: 0.4750 - val_loss: 1.1461 - val_accuracy: 0.3125\n",
      "Epoch 8/10\n",
      "10/10 [==============================] - 0s 3ms/step - loss: 1.0505 - accuracy: 0.4844 - val_loss: 1.1349 - val_accuracy: 0.3375\n",
      "Epoch 9/10\n",
      "10/10 [==============================] - 0s 3ms/step - loss: 1.0426 - accuracy: 0.4656 - val_loss: 1.1377 - val_accuracy: 0.3500\n",
      "Epoch 10/10\n",
      "10/10 [==============================] - 0s 3ms/step - loss: 1.0426 - accuracy: 0.4531 - val_loss: 1.1436 - val_accuracy: 0.3500\n"
     ]
    },
    {
     "data": {
      "text/plain": [
       "<keras.src.callbacks.History at 0x27c6e092550>"
      ]
     },
     "execution_count": 8,
     "metadata": {},
     "output_type": "execute_result"
    }
   ],
   "source": [
    "\n",
    "# Split the data into training and testing sets\n",
    "X_train, X_test, y_train, y_test = train_test_split(data, labels, test_size=0.2, random_state=42)\n",
    "\n",
    "# Standardize the data\n",
    "scaler = StandardScaler()\n",
    "X_train_scaled = scaler.fit_transform(X_train)\n",
    "X_test_scaled = scaler.transform(X_test)\n",
    "\n",
    "# Convert labels to one-hot encoding\n",
    "y_train_encoded = to_categorical(y_train)\n",
    "y_test_encoded = to_categorical(y_test)\n",
    "\n",
    "# Define the model\n",
    "model = Sequential([\n",
    "    Dense(128, activation='relu', input_shape=(data.shape[1],)),\n",
    "    Dropout(0.3),\n",
    "    Dense(64, activation='relu'),\n",
    "    Dense(3, activation='softmax')  # Adjust based on the number of wave categories\n",
    "])\n",
    "\n",
    "# Compile the model\n",
    "model.compile(optimizer='adam', loss='categorical_crossentropy', metrics=['accuracy'])\n",
    "\n",
    "# Train the model\n",
    "model.fit(X_train_scaled, y_train_encoded, epochs=10, batch_size=32, validation_split=0.2)\n"
   ]
  },
  {
   "cell_type": "code",
   "execution_count": 9,
   "metadata": {},
   "outputs": [
    {
     "name": "stdout",
     "output_type": "stream",
     "text": [
      "4/4 [==============================] - 0s 1ms/step - loss: 1.1192 - accuracy: 0.4000\n",
      "Test accuracy: 0.4000000059604645\n",
      "4/4 [==============================] - 0s 1ms/step\n",
      "[1 1 1 2 2 2 0 1 2 0 2 1 2 1 2 1 1 0 2 1 1 1 1 2 2 2 1 1 1 1 0 0 1 0 1 1 1\n",
      " 1 1 2 1 2 2 2 2 1 0 1 1 1 2 2 1 1 1 1 1 1 2 1 0 2 1 2 1 1 1 2 1 1 0 1 1 0\n",
      " 2 2 0 1 2 1 1 1 1 2 1 0 1 0 0 2 1 1 0 2 1 1 0 2 2 2]\n"
     ]
    }
   ],
   "source": [
    "\n",
    "# Evaluate the model on the test set\n",
    "test_loss, test_accuracy = model.evaluate(X_test_scaled, y_test_encoded)\n",
    "print(f\"Test accuracy: {test_accuracy}\")\n",
    "\n",
    "# Make predictions using the trained model\n",
    "predictions = model.predict(X_test_scaled)\n",
    "\n",
    "# Convert predicted probabilities to predicted categories\n",
    "predicted_labels = np.argmax(predictions, axis=1)\n",
    "print(predicted_labels)"
   ]
  }
 ],
 "metadata": {
  "kernelspec": {
   "display_name": ".venv",
   "language": "python",
   "name": "python3"
  },
  "language_info": {
   "codemirror_mode": {
    "name": "ipython",
    "version": 3
   },
   "file_extension": ".py",
   "mimetype": "text/x-python",
   "name": "python",
   "nbconvert_exporter": "python",
   "pygments_lexer": "ipython3",
   "version": "3.11.4"
  },
  "orig_nbformat": 4
 },
 "nbformat": 4,
 "nbformat_minor": 2
}
