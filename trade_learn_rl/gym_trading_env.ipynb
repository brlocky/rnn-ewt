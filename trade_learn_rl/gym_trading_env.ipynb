{
 "cells": [
  {
   "cell_type": "markdown",
   "metadata": {},
   "source": [
    "Run A2C model learning\n"
   ]
  },
  {
   "cell_type": "code",
   "execution_count": 1,
   "metadata": {},
   "outputs": [
    {
     "name": "stdout",
     "output_type": "stream",
     "text": [
      "observation_space: Box(-10000000000.0, 10000000000.0, (10, 5), float64)\n"
     ]
    }
   ],
   "source": [
    "import numpy as np\n",
    "from stable_baselines3 import A2C\n",
    "from stable_baselines3.common.vec_env import DummyVecEnv\n",
    "from stable_baselines3.common.vec_env import VecNormalize\n",
    "from stable_baselines3.common.env_util import make_vec_env\n",
    "from env import CustomEnv\n",
    "from utils.load_data import load_data\n",
    "import gymnasium as gym\n",
    "\n",
    "# from gym_anytrading import gym_anytrading\n",
    "\n",
    "df = load_data('../csv_clean_5m/AAPL.csv')\n",
    "\n",
    "window_size = 10\n",
    "start_index = window_size\n",
    "# end_index = len(df) - start_index\n",
    "end_index = 1000\n",
    "\n",
    "# env = gym.make('custom-v0', df=df, window_size=window_size, frame_bound=(start_index, end_index))\n",
    "env = CustomEnv(\n",
    "    df=df,\n",
    "    window_size=window_size,\n",
    "    frame_bound=(start_index, end_index),\n",
    "    # render_mode=\"human\",\n",
    ")\n",
    "\n",
    "print(\"observation_space:\", env.observation_space)"
   ]
  },
  {
   "cell_type": "code",
   "execution_count": null,
   "metadata": {},
   "outputs": [],
   "source": [
    "from matplotlib import pyplot as plt\n",
    "\n",
    "\n",
    "# Reset env\n",
    "env.reset(seed=42)\n",
    "\n",
    "loadfile = True\n",
    "agent_file_name = \"_new_model\"\n",
    "if loadfile:\n",
    "    try:\n",
    "        model = A2C.load(f\"{agent_file_name}\", env=env)\n",
    "        print('model loaded successfully')\n",
    "    except Exception as e:\n",
    "        # Create the PPO agent\n",
    "        model = A2C('MlpPolicy', env, verbose=0)\n",
    "else:\n",
    "    model = A2C('MlpPolicy', env, verbose=0)\n",
    "\n",
    "# Train the agent\n",
    "total_timesteps = 10000\n",
    "model.learn(total_timesteps=total_timesteps, progress_bar=True)\n",
    "\n",
    "\n",
    "# Save the trained model with the current date in the filename\n",
    "model.save(agent_file_name)\n",
    "\n",
    "model.get_env().unwrapped.env_method('render_all')"
   ]
  },
  {
   "cell_type": "code",
   "execution_count": null,
   "metadata": {},
   "outputs": [],
   "source": [
    "\n",
    "\n",
    "# reproduce training and test\n",
    "import random\n",
    "import torch\n",
    "from tqdm import tqdm\n",
    "\n",
    "\n",
    "model = A2C.load(f\"{agent_file_name}\", env=env)\n",
    "vec_env = model.get_env()\n",
    "\n",
    "\n",
    "print('-' * 80)\n",
    "seed = 42\n",
    "obs = env.reset(seed=seed)\n",
    "torch.manual_seed(seed)\n",
    "random.seed(seed)\n",
    "np.random.seed(seed)\n",
    "\n",
    "total_num_episodes = 5\n",
    "tbar = tqdm(range(total_num_episodes))\n",
    "\n",
    "for episode in tbar:\n",
    "    obs = vec_env.reset()\n",
    "\n",
    "    total_reward = 0\n",
    "    done = False\n",
    "    while not done:\n",
    "        action, _states = model.predict(obs)\n",
    "        obs, reward, done, info = vec_env.step(action)\n",
    "\n",
    "        total_reward += reward\n",
    "        if done:\n",
    "            break\n",
    "\n",
    "        tbar.set_description(f'Episode: {episode} {reward}')\n",
    "        tbar.update()\n",
    "\n",
    "tbar.close()"
   ]
  },
  {
   "cell_type": "code",
   "execution_count": null,
   "metadata": {},
   "outputs": [],
   "source": []
  }
 ],
 "metadata": {
  "kernelspec": {
   "display_name": "gpu",
   "language": "python",
   "name": "python3"
  },
  "language_info": {
   "codemirror_mode": {
    "name": "ipython",
    "version": 3
   },
   "file_extension": ".py",
   "mimetype": "text/x-python",
   "name": "python",
   "nbconvert_exporter": "python",
   "pygments_lexer": "ipython3",
   "version": "3.11.4"
  },
  "orig_nbformat": 4
 },
 "nbformat": 4,
 "nbformat_minor": 2
}
