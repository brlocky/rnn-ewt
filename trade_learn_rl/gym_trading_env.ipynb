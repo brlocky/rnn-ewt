{
 "cells": [
  {
   "cell_type": "markdown",
   "metadata": {},
   "source": [
    "Run A2C model learning\n"
   ]
  },
  {
   "cell_type": "code",
   "execution_count": null,
   "metadata": {},
   "outputs": [],
   "source": [
    "import numpy as np\n",
    "from stable_baselines3 import A2C, DQN\n",
    "from utils.model import create_env, create_model\n",
    "from utils.load_data import load_data\n",
    "\n",
    "# from gym_anytrading import gym_anytrading\n",
    "\n",
    "df = load_data('../csv_clean_5m/AAPL.csv')\n",
    "# df = load_data('../csv_clean_5m/NVDA.csv')\n",
    "\n",
    "# df2 = df.iloc[71800:-1]\n",
    "\n",
    "# Impulse AAPL\n",
    "# df = df.iloc[-520:-380]\n",
    "\n",
    "env = create_env(df)\n",
    "print(\"observation_space:\", env.observation_space)\n",
    "\n",
    "\n",
    "seed = np.random.seed()\n",
    "env.reset(seed=seed)\n",
    "agent_file_name = \"_new_model\"\n",
    "\n",
    "\n",
    "loadfile = False\n",
    "if loadfile:\n",
    "    try:\n",
    "        model = DQN.load(f\"{agent_file_name}\", env=env)\n",
    "        print('model loaded successfully')\n",
    "    except Exception as e:\n",
    "        raise ValueError(\"Fail to load model\")\n",
    "else:\n",
    "    model = create_model(env)\n",
    "\n",
    "# Train the agent\n",
    "total_timesteps = 50000\n",
    "model = model.learn(total_timesteps=total_timesteps, progress_bar=True, )\n",
    "\n",
    "# Save the trained model with the current date in the filename\n",
    "model.save(agent_file_name)"
   ]
  },
  {
   "cell_type": "code",
   "execution_count": null,
   "metadata": {},
   "outputs": [],
   "source": [
    "import numpy as np\n",
    "from stable_baselines3 import A2C, DQN, PPO\n",
    "from utils.load_data import load_data\n",
    "from utils.model import create_env\n",
    "\n",
    "df = load_data('../csv_clean_5m/NVDA.csv')\n",
    "# df = load_data('../csv_clean_5m/AAPL.csv')\n",
    "# df2 = df.iloc[-100:]\n",
    "df2 = df.iloc[-1820:-1380]\n",
    "\n",
    "env = create_env(df2)\n",
    "env.reset(seed=42)\n",
    "\n",
    "if 'model' in locals():\n",
    "    del model\n",
    "\n",
    "agent_file_name = \"_new_model\"\n",
    "model = DQN.load(f\"{agent_file_name}\", env=env)\n",
    "vec_env = model.get_env()\n",
    "if vec_env is not None:\n",
    "    print('-' * 80)\n",
    "    seed = np.random.seed()\n",
    "\n",
    "    total_num_episodes = 2\n",
    "\n",
    "    for episode in range(total_num_episodes):\n",
    "        obs = vec_env.reset()\n",
    "\n",
    "        total_reward = 0\n",
    "        done = False\n",
    "        while not done:\n",
    "            action, _states = model.predict(obs)\n",
    "            obs, reward, done, info = vec_env.step(action)\n",
    "\n",
    "            total_reward += reward\n",
    "            if done:\n",
    "                break\n",
    "\n",
    "        vec_env.unwrapped.env_method('render')"
   ]
  }
 ],
 "metadata": {
  "kernelspec": {
   "display_name": "gpu",
   "language": "python",
   "name": "python3"
  },
  "language_info": {
   "codemirror_mode": {
    "name": "ipython",
    "version": 3
   },
   "file_extension": ".py",
   "mimetype": "text/x-python",
   "name": "python",
   "nbconvert_exporter": "python",
   "pygments_lexer": "ipython3",
   "version": "3.11.4"
  },
  "orig_nbformat": 4
 },
 "nbformat": 4,
 "nbformat_minor": 2
}
