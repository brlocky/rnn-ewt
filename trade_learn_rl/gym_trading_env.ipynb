{
 "cells": [
  {
   "cell_type": "markdown",
   "metadata": {},
   "source": [
    "Run A2C model learning\n"
   ]
  },
  {
   "cell_type": "code",
   "execution_count": 1,
   "metadata": {},
   "outputs": [
    {
     "name": "stdout",
     "output_type": "stream",
     "text": [
      "observation_space: Box(-10000000000.0, 10000000000.0, (25, 5), float64)\n"
     ]
    }
   ],
   "source": [
    "import numpy as np\n",
    "from stable_baselines3 import A2C\n",
    "from env import CustomEnv\n",
    "from utils.load_data import load_data\n",
    "import gymnasium as gym\n",
    "\n",
    "# from gym_anytrading import gym_anytrading\n",
    "\n",
    "df = load_data('../csv_clean_5m/AAPL.csv')\n",
    "\n",
    "window_size = 25\n",
    "# df = df.iloc[:110]\n",
    "\n",
    "env = CustomEnv(\n",
    "    df=df,\n",
    "    window_size=window_size,\n",
    "    # render_mode=\"human\",\n",
    ")\n",
    "\n",
    "print(\"observation_space:\", env.observation_space)\n",
    "\n",
    "agent_file_name = \"_new_model\""
   ]
  },
  {
   "cell_type": "code",
   "execution_count": 2,
   "metadata": {},
   "outputs": [
    {
     "data": {
      "application/vnd.jupyter.widget-view+json": {
       "model_id": "cf120de353ac4b4a89a068d29722dd35",
       "version_major": 2,
       "version_minor": 0
      },
      "text/plain": [
       "Output()"
      ]
     },
     "metadata": {},
     "output_type": "display_data"
    },
    {
     "name": "stdout",
     "output_type": "stream",
     "text": [
      "model loaded successfully\n"
     ]
    },
    {
     "data": {
      "text/html": [
       "<pre style=\"white-space:pre;overflow-x:auto;line-height:normal;font-family:Menlo,'DejaVu Sans Mono',consolas,'Courier New',monospace\"></pre>\n"
      ],
      "text/plain": []
     },
     "metadata": {},
     "output_type": "display_data"
    },
    {
     "data": {
      "text/html": [
       "<pre style=\"white-space:pre;overflow-x:auto;line-height:normal;font-family:Menlo,'DejaVu Sans Mono',consolas,'Courier New',monospace\">\n",
       "</pre>\n"
      ],
      "text/plain": [
       "\n"
      ]
     },
     "metadata": {},
     "output_type": "display_data"
    }
   ],
   "source": [
    "import os\n",
    "from matplotlib import pyplot as plt\n",
    "\n",
    "tensorboard_log = 'tensorboard_log'\n",
    "\n",
    "# Check if the directory exists, and create it if it doesn't\n",
    "if not os.path.exists(tensorboard_log):\n",
    "    os.makedirs(tensorboard_log)\n",
    "\n",
    "env.reset(seed=42)\n",
    "\n",
    "model = A2C('MlpPolicy', env, verbose=0,\n",
    "            tensorboard_log=tensorboard_log)\n",
    "\n",
    "loadfile = True\n",
    "if loadfile:\n",
    "    try:\n",
    "        del model\n",
    "        model = A2C.load(f\"{agent_file_name}\", env=env)\n",
    "        print('model loaded successfully')\n",
    "    except Exception as e:\n",
    "        print('Fail to load model')\n",
    "\n",
    "# Train the agent\n",
    "total_timesteps = 10000\n",
    "model.learn(total_timesteps=total_timesteps, progress_bar=True)\n",
    "\n",
    "# Save the trained model with the current date in the filename\n",
    "model.save(agent_file_name)\n",
    "\n",
    "# model.get_env().unwrapped.env_method('render_all')"
   ]
  },
  {
   "cell_type": "code",
   "execution_count": null,
   "metadata": {},
   "outputs": [],
   "source": [
    "# reproduce training and test\n",
    "import random\n",
    "import torch\n",
    "from tqdm import tqdm\n",
    "\n",
    "df2 = df.iloc[:100]\n",
    "env = CustomEnv(\n",
    "    df=df2,\n",
    "    window_size=window_size,\n",
    "    # render_mode=\"human\",\n",
    ")\n",
    "\n",
    "env.reset(seed=42)\n",
    "\n",
    "model = A2C.load(f\"{agent_file_name}\", env=env)\n",
    "vec_env = model.get_env()\n",
    "\n",
    "print('-' * 80)\n",
    "seed = 42\n",
    "# obs = env.reset(seed=seed)\n",
    "torch.manual_seed(seed)\n",
    "random.seed(seed)\n",
    "np.random.seed(seed)\n",
    "\n",
    "total_num_episodes = 10\n",
    "tbar = tqdm(range(total_num_episodes))\n",
    "\n",
    "for episode in tbar:\n",
    "    obs = vec_env.reset()\n",
    "\n",
    "    total_reward = 0\n",
    "    done = False\n",
    "    while not done:\n",
    "        action, _states = model.predict(obs)\n",
    "        obs, reward, done, info = vec_env.step(action)\n",
    "\n",
    "        tbar.set_description(f'Episode: {episode} {reward}')\n",
    "        tbar.update()\n",
    "\n",
    "        total_reward += reward\n",
    "        if done:\n",
    "            break\n",
    "\n",
    "    vec_env.unwrapped.env_method('render')\n",
    "\n",
    "tbar.close()"
   ]
  },
  {
   "cell_type": "code",
   "execution_count": null,
   "metadata": {},
   "outputs": [],
   "source": []
  }
 ],
 "metadata": {
  "kernelspec": {
   "display_name": "gpu",
   "language": "python",
   "name": "python3"
  },
  "language_info": {
   "codemirror_mode": {
    "name": "ipython",
    "version": 3
   },
   "file_extension": ".py",
   "mimetype": "text/x-python",
   "name": "python",
   "nbconvert_exporter": "python",
   "pygments_lexer": "ipython3",
   "version": "3.11.4"
  },
  "orig_nbformat": 4
 },
 "nbformat": 4,
 "nbformat_minor": 2
}
