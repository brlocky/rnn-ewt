{
 "cells": [
  {
   "cell_type": "markdown",
   "metadata": {},
   "source": [
    "Create Gymnasium Environment\n"
   ]
  },
  {
   "cell_type": "code",
   "execution_count": null,
   "metadata": {},
   "outputs": [],
   "source": [
    "from stable_baselines3 import A2C\n",
    "from gym_trading_env.utils.charts import charts\n",
    "from backtest import back_test\n",
    "from utils.load_data import load_data\n",
    "import random\n",
    "import os\n",
    "\n",
    "# Path to the folder containing the CSV files\n",
    "# folder_path = 'csv_clean_5m'\n",
    "folder_path = os.path.abspath('../csv_clean_5m')\n",
    "\n",
    "# Get a list of all CSV files in the folder\n",
    "csv_files = [file for file in os.listdir(folder_path) if file.endswith('.csv')]\n",
    "\n",
    "# Dictionary to store DataFrames for each ticker\n",
    "ticker_data = {}\n",
    "\n",
    "# Load Model\n",
    "# model = A2C.load(\"trained_a2c_model\")\n",
    "model = A2C.load(\"ziz_zap_model\")\n",
    "# Loop through each CSV file\n",
    "for csv_file in csv_files:\n",
    "    # Parse the ticker from the file name\n",
    "    ticker = csv_file.split('.')[0]\n",
    "    # ticker = csv_file\n",
    "    print(\"Loading ticker\", ticker)\n",
    "    # Read the CSV file into a DataFrame\n",
    "    file_path = os.path.join(folder_path, csv_file)\n",
    "    df = load_data(file_path)\n",
    "    df = df[:1000]\n",
    "    back_test(model, df)\n",
    "    break"
   ]
  }
 ],
 "metadata": {
  "kernelspec": {
   "display_name": "gpu",
   "language": "python",
   "name": "python3"
  },
  "language_info": {
   "codemirror_mode": {
    "name": "ipython",
    "version": 3
   },
   "file_extension": ".py",
   "mimetype": "text/x-python",
   "name": "python",
   "nbconvert_exporter": "python",
   "pygments_lexer": "ipython3",
   "version": "3.11.4"
  },
  "orig_nbformat": 4
 },
 "nbformat": 4,
 "nbformat_minor": 2
}
