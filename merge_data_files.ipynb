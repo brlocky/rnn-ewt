{
 "cells": [
  {
   "cell_type": "code",
   "execution_count": 1,
   "metadata": {},
   "outputs": [
    {
     "name": "stdout",
     "output_type": "stream",
     "text": [
      "Saved merged data for AAPL to csv_data_5m\\AAPL.csv\n",
      "Saved merged data for NVDA to csv_data_5m\\NVDA.csv\n",
      "Saved merged data for SPY to csv_data_5m\\SPY.csv\n"
     ]
    }
   ],
   "source": [
    "import os\n",
    "import pandas as pd\n",
    "\n",
    "# Path to the folder containing the CSV files\n",
    "folder_path = 'csv_data_5m'\n",
    "\n",
    "# Get a list of all CSV files in the folder\n",
    "csv_files = [file for file in os.listdir(folder_path) if file.endswith('.csv')]\n",
    "\n",
    "# Dictionary to store DataFrames for each ticker\n",
    "ticker_data = {}\n",
    "\n",
    "# Loop through each CSV file\n",
    "for csv_file in csv_files:\n",
    "    # Parse the ticker from the file name\n",
    "    ticker = csv_file.split('_')[0]\n",
    "    \n",
    "    # Read the CSV file into a DataFrame\n",
    "    file_path = os.path.join(folder_path, csv_file)\n",
    "    df = pd.read_csv(file_path, parse_dates=['Date'])\n",
    "    \n",
    "    # Drop the first column\n",
    "    df = df.drop(columns=['Unnamed: 0'])\n",
    "    \n",
    "    # If the ticker exists in the dictionary, append the DataFrame, otherwise create a new entry\n",
    "    if ticker in ticker_data:\n",
    "        ticker_data[ticker].append(df)\n",
    "    else:\n",
    "        ticker_data[ticker] = [df]\n",
    "\n",
    "# Merge DataFrames for each ticker and save to a new CSV file in the same folder\n",
    "for ticker, dataframes in ticker_data.items():\n",
    "    merged_df = pd.concat(dataframes, ignore_index=True)\n",
    "    output_file = os.path.join(folder_path, f'{ticker}.csv')\n",
    "    merged_df.to_csv(output_file, index=False)\n",
    "    print(f'Saved merged data for {ticker} to {output_file}')\n"
   ]
  }
 ],
 "metadata": {
  "kernelspec": {
   "display_name": "torch",
   "language": "python",
   "name": "python3"
  },
  "language_info": {
   "codemirror_mode": {
    "name": "ipython",
    "version": 3
   },
   "file_extension": ".py",
   "mimetype": "text/x-python",
   "name": "python",
   "nbconvert_exporter": "python",
   "pygments_lexer": "ipython3",
   "version": "3.11.4"
  },
  "orig_nbformat": 4
 },
 "nbformat": 4,
 "nbformat_minor": 2
}
